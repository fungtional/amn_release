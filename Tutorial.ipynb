{
 "cells": [
  {
   "cell_type": "markdown",
   "id": "da5f8d1c",
   "metadata": {},
   "source": [
    "# Go through all steps of building an AMN model"
   ]
  },
  {
   "cell_type": "markdown",
   "id": "021d08de",
   "metadata": {},
   "source": [
    "With *in silico* datasets generated with the E. coli core model."
   ]
  },
  {
   "cell_type": "markdown",
   "id": "f46cc923",
   "metadata": {
    "id": "725c9c6d"
   },
   "source": [
    "# Install conda on your Colab environment"
   ]
  },
  {
   "cell_type": "markdown",
   "id": "d4b87c7d",
   "metadata": {},
   "source": [
    "Ignore this first cell if you are running the notebook in a local environment.\n",
    "\n",
    "One can still run it locally but it will have no effect."
   ]
  },
  {
   "cell_type": "code",
   "execution_count": 1,
   "id": "bfa4a4ab",
   "metadata": {
    "colab": {
     "base_uri": "https://localhost:8080/"
    },
    "executionInfo": {
     "elapsed": 40951,
     "status": "ok",
     "timestamp": 1664526150927,
     "user": {
      "displayName": "Leon Faure",
      "userId": "06483081905364613855"
     },
     "user_tz": -120
    },
    "id": "c4f08880",
    "outputId": "eaae29a9-4739-4b0f-a2a7-56bfa89f0bf0",
    "scrolled": true
   },
   "outputs": [],
   "source": [
    "# Run this cell first - it will install a conda distribution (mamba)\n",
    "# on your Drive then restart the kernel automatically \n",
    "# (don't worry about the crashing/restarting kernel messages)\n",
    "# It HAS to be runned FIRST everytime you use the notebook in colab\n",
    "\n",
    "import os\n",
    "import sys\n",
    "RunningInCOLAB  = 'google.colab' in str(get_ipython())\n",
    "\n",
    "if RunningInCOLAB:\n",
    "    !pip install -q condacolab\n",
    "    import condacolab\n",
    "    condacolab.install()"
   ]
  },
  {
   "cell_type": "markdown",
   "id": "62d5de79",
   "metadata": {},
   "source": [
    "# Set up your Colab or local environment"
   ]
  },
  {
   "cell_type": "markdown",
   "id": "ce2c6a47",
   "metadata": {},
   "source": [
    "Run this cell in both cases of use (local or Colab)"
   ]
  },
  {
   "cell_type": "code",
   "execution_count": 1,
   "id": "e3746f76",
   "metadata": {
    "colab": {
     "base_uri": "https://localhost:8080/"
    },
    "executionInfo": {
     "elapsed": 117260,
     "status": "ok",
     "timestamp": 1664526767265,
     "user": {
      "displayName": "Leon Faure",
      "userId": "06483081905364613855"
     },
     "user_tz": -120
    },
    "id": "BYwheAEcr-ME",
    "outputId": "8ba41a54-6751-4c00-ed1a-938db78cafb6"
   },
   "outputs": [
    {
     "name": "stdout",
     "output_type": "stream",
     "text": [
      "['.git', '.gitignore', '.ipynb_checkpoints', 'Build_Dataset.ipynb', 'Build_Experimental.ipynb', 'Build_Model_AMN.ipynb', 'Build_Model_ANN_Dense.ipynb', 'Build_Model_MM.ipynb', 'Build_Model_RC.ipynb', 'Dataset_experimental', 'Dataset_input', 'Dataset_model', 'Duplicate_Model.ipynb', 'environment_amn.yml', 'environment_amn_light.yml', 'Figures', 'Figures.ipynb', 'Library', 'LICENSE', 'README.md', 'Reservoir', 'Result', 'Tutorial.ipynb']\n"
     ]
    }
   ],
   "source": [
    "import os\n",
    "import sys\n",
    "RunningInCOLAB  = 'google.colab' in str(get_ipython())\n",
    "\n",
    "if RunningInCOLAB:\n",
    "    \n",
    "    # Check everything is fine with conda in Colab\n",
    "    import condacolab\n",
    "    condacolab.check()\n",
    "    \n",
    "    # Mount your drive environment in the colab runtime\n",
    "    from google.colab import drive\n",
    "    drive.mount('/content/drive',force_remount=True)\n",
    "    \n",
    "    # Change this variable to your path on Google Drive to which the repo has been cloned\n",
    "    # If you followed the colab notebook 'repo_cloning.ipynb', nothing to change here\n",
    "    repo_path_in_drive = '/content/drive/My Drive/Github/amn_release/'\n",
    "    # Change directory to your repo cloned in your drive\n",
    "    DIRECTORY = repo_path_in_drive\n",
    "    os.chdir(repo_path_in_drive)\n",
    "    # Copy the environment given in the environment_amn_light.yml\n",
    "    !mamba env update -n base -f environment_amn_light.yml\n",
    "    \n",
    "    # This is one of the few Colab-compatible font\n",
    "    font = 'Liberation Sans'\n",
    "    \n",
    "else:\n",
    "    \n",
    "    # In this case the local root of the repo is our working directory\n",
    "    DIRECTORY = './'\n",
    "    font = 'arial'\n",
    "\n",
    "# printing the working directory files. One can check you see the same folders and files as in the git webpage.\n",
    "print(os.listdir(DIRECTORY))\n",
    "\n",
    "# We declare this function here and not in the\n",
    "# function-storing python file to modify it easily\n",
    "# as it can change the printouts of the methods\n",
    "def printout(V, Stats, model): \n",
    "    # printing Stats\n",
    "    print(\"R2 = %.2f (+/- %.2f) Constraint = %.2f (+/- %.2f)\" % \\\n",
    "          (Stats.train_objective[0], Stats.train_objective[1],\n",
    "           Stats.train_loss[0], Stats.train_loss[1]))\n",
    "    Vout = tf.convert_to_tensor(np.float32(model.Y))\n",
    "    Loss_norm, dLoss = Loss_Vout(V, model.Pout, Vout)\n",
    "    print('Loss Targets', np.mean(Loss_norm))\n",
    "    Loss_norm, dLoss = Loss_SV(V, model.S)\n",
    "    print('Loss SV', np.mean(Loss_norm))\n",
    "    Vin = tf.convert_to_tensor(np.float32(model.X))\n",
    "    Pin = tf.convert_to_tensor(np.float32(model.Pin))\n",
    "    if Vin.shape[1] == model.S.shape[1]: # special case\n",
    "        Vin  = tf.linalg.matmul(Vin, tf.transpose(Pin), b_is_sparse=True)\n",
    "    Loss_norm, dLoss = Loss_Vin(V, model.Pin, Vin, model.mediumbound)\n",
    "    print('Loss Vin bound', np.mean(Loss_norm))\n",
    "    Loss_norm, dLoss = Loss_Vpos(V, model)\n",
    "    print('Loss V positive', np.mean(Loss_norm))"
   ]
  },
  {
   "cell_type": "markdown",
   "id": "8526745a",
   "metadata": {},
   "source": [
    "# 1° Duplicate reactions of the E. coli core model"
   ]
  },
  {
   "cell_type": "markdown",
   "id": "404e1d70",
   "metadata": {},
   "source": [
    "The goal is to obtain a positive flux only model, to be then used for neural computations "
   ]
  },
  {
   "cell_type": "markdown",
   "id": "569c4171",
   "metadata": {},
   "source": [
    "To perform this step, refer to the notebook `Duplicate_Model.ipynb`. In this tutorial we will use the output of this notebook, i.e. the duplicated-reactions model of E. coli core. It is already present in the git, no need to run the notebook again."
   ]
  },
  {
   "cell_type": "markdown",
   "id": "647ca37b",
   "metadata": {},
   "source": [
    "# 2° Generate a training set by running cobrapy with different inputs"
   ]
  },
  {
   "cell_type": "markdown",
   "id": "b632cd84",
   "metadata": {},
   "source": [
    "Import required functions"
   ]
  },
  {
   "cell_type": "code",
   "execution_count": 10,
   "id": "8a0e7a70",
   "metadata": {},
   "outputs": [],
   "source": [
    "from Library.Build_Dataset import *\n",
    "import pandas as pd\n",
    "import matplotlib.pyplot as plt\n",
    "import seaborn as sns"
   ]
  },
  {
   "cell_type": "markdown",
   "id": "77d3927b",
   "metadata": {},
   "source": [
    "Set the parameters for your training set generation.\n",
    "\n",
    "We call a 'medium file', containing information on which exchange reaction to consider, in which range to draw random values for these, and at which ratio the exchange reactions are turned on. This file is in the folder `Dataset_model/`, one can access and modify it for generating other training sets. "
   ]
  },
  {
   "cell_type": "code",
   "execution_count": 5,
   "id": "0c0a136f",
   "metadata": {},
   "outputs": [],
   "source": [
    "# Generate training set with E coli core model with pFBA simulation\n",
    "\n",
    "# What you can change\n",
    "seed = 10\n",
    "np.random.seed(seed=seed)  # seed for random number generator\n",
    "cobraname =  'e_coli_core_duplicated'  # name of the model, stored in Dataset_model/ with .xml suffix\n",
    "mediumname = 'e_coli_core' # name of the medium file, stored in Dataset_model/ with .csv suffix\n",
    "mediumbound = 'UB' # Exact bound (EB) or upper bound (UB)\n",
    "method = 'pFBA' # FBA, pFBA or EXP\n",
    "size  = 50 # training set size\n",
    "reduce = False # Set at True if you want to reduce the model\n",
    "# End of What you can change"
   ]
  },
  {
   "cell_type": "markdown",
   "id": "b646bba4",
   "metadata": {},
   "source": [
    "Run cobra with specified parameters and 'medium file'.\n",
    "\n",
    "Then save the training set and test the loading to verify it is well built and accessible."
   ]
  },
  {
   "cell_type": "code",
   "execution_count": 6,
   "id": "63fa627d",
   "metadata": {
    "scrolled": true
   },
   "outputs": [
    {
     "name": "stdout",
     "output_type": "stream",
     "text": [
      "model file name: ./Dataset_model/e_coli_core_UB_50\n",
      "reduced model: False\n",
      "medium file name: ./Dataset_input/e_coli_core\n",
      "medium bound: UB\n",
      "list of reactions in objective: ['BIOMASS_Ecoli_core_w_GAM']\n",
      "method: pFBA\n",
      "trainingsize: 50\n",
      "list of medium reactions: 20\n",
      "list of medium levels: 20\n",
      "list of medium values: 20\n",
      "ratio of variable medium turned on: 0.5\n",
      "list of measured reactions: 154\n",
      "Stoichiometric matrix (72, 154)\n",
      "Boundary matrix from reactions to medium: (20, 154)\n",
      "Measurement matrix from reaction to measures: (154, 154)\n",
      "Reaction to metabolite matrix: (72, 154)\n",
      "Metabolite to reaction matrix: (154, 72)\n",
      "Training set X: (50, 20)\n",
      "Training set Y: (50, 154)\n",
      "S_int matrix (67, 154)\n",
      "S_ext matrix (154, 298)\n",
      "Q matrix (154, 67)\n",
      "P matrix (154, 154)\n",
      "b_int vector (67,)\n",
      "b_ext vector (50, 298)\n",
      "Sb matrix (154, 72)\n",
      "c vector (154,)\n"
     ]
    }
   ],
   "source": [
    "# Run cobra\n",
    "cobrafile  = DIRECTORY+'Dataset_input/'+cobraname\n",
    "mediumfile = DIRECTORY+'Dataset_input/'+mediumname\n",
    "parameter = TrainingSet(cobraname=cobrafile, \n",
    "                        mediumname=mediumfile, mediumbound=mediumbound, \n",
    "                        method=method,objective=[],\n",
    "                        measure=[])\n",
    "parameter.get(sample_size=size)\n",
    "\n",
    "# Saving file\n",
    "trainingfile  = DIRECTORY+'Dataset_model/'+mediumname+'_'+parameter.mediumbound+'_'+str(size)\n",
    "parameter.save(trainingfile, reduce=reduce)\n",
    "\n",
    "# Verifying\n",
    "parameter = TrainingSet()\n",
    "parameter.load(trainingfile)\n",
    "parameter.printout()"
   ]
  },
  {
   "cell_type": "code",
   "execution_count": 7,
   "id": "079e4f40",
   "metadata": {
    "scrolled": true
   },
   "outputs": [
    {
     "data": {
      "text/plain": [
       "['M2V',\n",
       " 'P',\n",
       " 'Pin',\n",
       " 'Pout',\n",
       " 'Q',\n",
       " 'S',\n",
       " 'S_ext',\n",
       " 'S_int',\n",
       " 'Sb',\n",
       " 'V2M',\n",
       " 'X',\n",
       " 'Y',\n",
       " '__class__',\n",
       " '__delattr__',\n",
       " '__dict__',\n",
       " '__dir__',\n",
       " '__doc__',\n",
       " '__eq__',\n",
       " '__format__',\n",
       " '__ge__',\n",
       " '__getattribute__',\n",
       " '__gt__',\n",
       " '__hash__',\n",
       " '__init__',\n",
       " '__init_subclass__',\n",
       " '__le__',\n",
       " '__lt__',\n",
       " '__module__',\n",
       " '__ne__',\n",
       " '__new__',\n",
       " '__reduce__',\n",
       " '__reduce_ex__',\n",
       " '__repr__',\n",
       " '__setattr__',\n",
       " '__sizeof__',\n",
       " '__str__',\n",
       " '__subclasshook__',\n",
       " '__weakref__',\n",
       " 'allmatrices',\n",
       " 'b_ext',\n",
       " 'b_int',\n",
       " 'c',\n",
       " 'cobraname',\n",
       " 'filter_measure',\n",
       " 'get',\n",
       " 'levmed',\n",
       " 'load',\n",
       " 'measure',\n",
       " 'medium',\n",
       " 'mediumbound',\n",
       " 'mediumname',\n",
       " 'method',\n",
       " 'model',\n",
       " 'objective',\n",
       " 'printout',\n",
       " 'ratmed',\n",
       " 'reduce',\n",
       " 'reduce_and_run',\n",
       " 'save',\n",
       " 'size',\n",
       " 'valmed']"
      ]
     },
     "execution_count": 7,
     "metadata": {},
     "output_type": "execute_result"
    }
   ],
   "source": [
    "# The object 'parameter' has many attributes, listed here below\n",
    "dir(parameter)\n",
    "# This object is created when generating a training set and loaded when training a model on that training set."
   ]
  },
  {
   "cell_type": "markdown",
   "id": "b0e595f7",
   "metadata": {},
   "source": [
    "We can plot a heatmap of the generated training set. First, the X values (i.e. the exchange reactions upper bounds) and then the Y values (i.e. the whole flux distribution solved by cobrapy with pFBA)."
   ]
  },
  {
   "cell_type": "code",
   "execution_count": 11,
   "id": "d00d84e3",
   "metadata": {},
   "outputs": [
    {
     "data": {
      "image/png": "[encoded data removed]",
      "text/plain": [
       "<Figure size 640x480 with 2 Axes>"
      ]
     },
     "metadata": {},
     "output_type": "display_data"
    }
   ],
   "source": [
    "sns.heatmap(pd.DataFrame(parameter.X))\n",
    "plt.show()"
   ]
  },
  {
   "cell_type": "code",
   "execution_count": 12,
   "id": "6252d40c",
   "metadata": {},
   "outputs": [
    {
     "data": {
      "image/png": "[encoded data removed]",
      "text/plain": [
       "<Figure size 640x480 with 2 Axes>"
      ]
     },
     "metadata": {},
     "output_type": "display_data"
    }
   ],
   "source": [
    "sns.heatmap(pd.DataFrame(parameter.Y))\n",
    "plt.show()"
   ]
  },
  {
   "cell_type": "markdown",
   "id": "2bb48273",
   "metadata": {},
   "source": [
    "# 3° Build different kind of models: mechanistic, neural or hybrid"
   ]
  },
  {
   "cell_type": "markdown",
   "id": "c751b323",
   "metadata": {},
   "source": [
    "## 3.1° Mechanistic model: AMN-suitable mechanistic methods alone"
   ]
  },
  {
   "cell_type": "markdown",
   "id": "b4a4c737",
   "metadata": {},
   "source": [
    "This step aims to check if in-house AMN-suitable mechanistic methods reach satisfactory solutions, i.e. solutions that have the same value for the objective reaction set for generating the training set (here, the default objective `BIOMASS_Ecoli_core_w_GAM`), and if the constraints of the metabolic network are well respected: SV=0, V>0, exchange reactions bounds (Vin) respected.\n",
    "\n",
    "NB: no learning is performed here. We solve each element of the training set independently from each other, with the in-house solvers QP or LP."
   ]
  },
  {
   "cell_type": "markdown",
   "id": "65f6aea2",
   "metadata": {},
   "source": [
    "Import required functions"
   ]
  },
  {
   "cell_type": "code",
   "execution_count": null,
   "id": "4e7e6b6e-9baa-45e4-9310-58bef0e886f7",
   "metadata": {},
   "outputs": [],
   "source": [
    "from Library.Build_Model import *"
   ]
  },
  {
   "cell_type": "markdown",
   "id": "bdfc963b",
   "metadata": {},
   "source": [
    "Set the parameters for your mechanistic methods."
   ]
  },
  {
   "cell_type": "code",
   "execution_count": 12,
   "id": "3a9a06f0",
   "metadata": {},
   "outputs": [
    {
     "name": "stdout",
     "output_type": "stream",
     "text": [
      "training file: ./Dataset_model/e_coli_core_UB_50\n",
      "model type: MM_LP\n",
      "model scaler: 0.0\n",
      "model input dim: 20\n",
      "model output dim: 1\n",
      "model medium bound: UB\n",
      "timestep: 10000\n",
      "training set size (50, 20) (50, 1)\n"
     ]
    }
   ],
   "source": [
    "# Run Mechanistic model (no training) QP (quadratic program) or LP (linear program)\n",
    "# using E. coli core simulation training sets and EB (or UB) bounds\n",
    "\n",
    "# What you can change\n",
    "seed = 10\n",
    "np.random.seed(seed=seed)  \n",
    "trainname = 'e_coli_core_UB_50' # the training set file name (generated at previous step)\n",
    "size = 5 # number of runs must be lower than the number of element in trainname\n",
    "timestep = int(1.0e4) # LP 1.0e4 QP 1.0e5\n",
    "learn_rate = 0.3 # for LP: 0.3; for QP: 1.0\n",
    "decay_rate = 0.9 # only in QP, 0.9\n",
    "solver = 'MM_LP' # choose between MM_LP or MM_QP\n",
    "# End of What you can change\n",
    "\n",
    "# Create model and run GD for X and Y randomly drawn from trainingfile\n",
    "trainingfile = DIRECTORY+'Dataset_model/'+trainname\n",
    "model = Neural_Model(trainingfile = trainingfile, \n",
    "              objective=['BIOMASS_Ecoli_core_w_GAM'], \n",
    "              model_type = solver, \n",
    "              timestep = timestep, \n",
    "              learn_rate = learn_rate, \n",
    "              decay_rate = decay_rate)\n",
    "# Prints a summary of the model before running\n",
    "\n",
    "model.printout()"
   ]
  },
  {
   "cell_type": "code",
   "execution_count": 15,
   "id": "25e343cf",
   "metadata": {
    "scrolled": true
   },
   "outputs": [
    {
     "name": "stdout",
     "output_type": "stream",
     "text": [
      "LP-Loss 1 0.22319156 0.056573782\n",
      "LP-Loss 10 0.20051904 0.056685936\n",
      "LP-Loss 100 0.06593693 0.03126802\n",
      "LP-Loss 1000 0.00020193856 0.00027553688\n",
      "LP-Loss 2000 2.8318558e-05 3.9392e-05\n",
      "LP-Loss 3000 1.0665081e-05 1.9738318e-05\n",
      "LP-Loss 4000 4.465483e-06 1.235451e-05\n",
      "LP-Loss 5000 2.8441675e-06 1.0824294e-05\n",
      "LP-Loss 6000 2.258871e-06 9.068624e-06\n",
      "LP-Loss 7000 1.8383274e-06 7.662022e-06\n",
      "LP-Loss 8000 1.4816699e-06 6.3611906e-06\n",
      "LP-Loss 9000 1.1949011e-06 5.2127994e-06\n",
      "LP-Loss 10000 9.49317e-07 4.226952e-06\n",
      "AMN output shapes for PoutV, SV, PinV, Vpos, V, outputs (50, 1) (50, 1) (50, 1) (50, 1) (50, 154) (50, 312)\n",
      "R2 = 1.00 (+/- 0.00) Constraint = 0.00 (+/- 0.00)\n",
      "Loss Targets 0.0005201458\n",
      "Loss SV 7.477279e-07\n",
      "Loss Vin bound 5.2814652e-05\n",
      "Loss V positive 1.1901792e-05\n"
     ]
    }
   ],
   "source": [
    "# Runs the appropriate method\n",
    "\n",
    "if model.model_type == 'MM_QP':\n",
    "    Ypred, Stats = MM_QP(model, verbose=True)\n",
    "if model.model_type == 'MM_LP':\n",
    "    Ypred, Stats = MM_LP(model, verbose=True)\n",
    "\n",
    "# Printing results\n",
    "printout(Ypred, Stats, model)"
   ]
  },
  {
   "cell_type": "markdown",
   "id": "3cdeb12f",
   "metadata": {
    "id": "AZh8eS0TS9Xh",
    "tags": []
   },
   "source": [
    "## 3.2° Neural: classical Artificial Neural Networks (ANN)"
   ]
  },
  {
   "cell_type": "markdown",
   "id": "bcaaebbc",
   "metadata": {},
   "source": [
    "This step aims to use classical neural networks for learning on the cobrapy-generated dataset, looking at the performance of a pure black-box without any computation using the stoichiometric matrix of the network or other 'knowledge'.\n",
    "\n",
    "We use a 5-fold cross-validation scheme on 90% of the data and an independent test-set of 10% of the data."
   ]
  },
  {
   "cell_type": "markdown",
   "id": "49a78389",
   "metadata": {},
   "source": [
    "Import required functions"
   ]
  },
  {
   "cell_type": "code",
   "execution_count": 22,
   "id": "9972b961",
   "metadata": {},
   "outputs": [],
   "source": [
    "from Library.Build_Model import *\n",
    "# We declare this function here and not in the\n",
    "# function-storing python file to modify it easily\n",
    "# as it can change the printouts of the methods\n",
    "def printout(filename, Stats, model, time): \n",
    "    # printing Stats\n",
    "    print('Stats for %s CPU-time %.4f' % (filename, time))\n",
    "    print('R2 = %.4f (+/- %.4f) Constraint = %.4f (+/- %.4f)' % \\\n",
    "          (Stats.train_objective[0], Stats.train_objective[1],\n",
    "           Stats.train_loss[0], Stats.train_loss[1]))\n",
    "    print('Q2 = %.4f (+/- %.4f) Constraint = %.4f (+/- %.4f)' % \\\n",
    "          (Stats.test_objective[0], Stats.test_objective[1],\n",
    "           Stats.test_loss[0], Stats.test_loss[1]))"
   ]
  },
  {
   "cell_type": "code",
   "execution_count": 42,
   "id": "329bd0fa",
   "metadata": {
    "id": "rLJUJ4kCxjf8",
    "outputId": "aeca8606-f76b-4a28-9efb-bc0297ccbde9",
    "scrolled": true
   },
   "outputs": [
    {
     "name": "stdout",
     "output_type": "stream",
     "text": [
      "training file: ./Dataset_model/e_coli_core_UB_50\n",
      "model type: ANN_Dense\n",
      "model scaler: 0.0\n",
      "model input dim: 20\n",
      "model output dim: 1\n",
      "model medium bound: UB\n",
      "timestep: 0\n",
      "training set size (50, 20) (50, 1)\n",
      "nbr hidden layer: 1\n",
      "hidden layer size: 50\n",
      "activation function: relu\n",
      "training epochs: 500\n",
      "training regression: True\n",
      "training learn rate: 0.001\n",
      "training dropout: 0.25\n",
      "training batch size: 5\n",
      "training validation iter: 0\n",
      "training xfold: 5\n",
      "training early stopping: False\n",
      "nbr parameters: 1101\n",
      "train = 0.99 test = 0.97 loss-train = -1.000000 loss-test = -1.000000 iter=0\n",
      "nbr parameters: 1101\n",
      "train = 0.95 test = 0.89 loss-train = -1.000000 loss-test = -1.000000 iter=0\n",
      "nbr parameters: 1101\n",
      "train = 0.94 test = 0.93 loss-train = -1.000000 loss-test = -1.000000 iter=0\n",
      "nbr parameters: 1101\n",
      "train = 0.97 test = 0.92 loss-train = -1.000000 loss-test = -1.000000 iter=0\n",
      "nbr parameters: 1101\n",
      "train = 0.97 test = 0.96 loss-train = -1.000000 loss-test = -1.000000 iter=0\n",
      "Stats for e_coli_core_UB_50_ANN_Dense CPU-time 275.3546\n",
      "R2 = 0.9625 (+/- 0.0163) Constraint = -1.0000 (+/- 0.0000)\n",
      "Q2 = 0.9367 (+/- 0.0267) Constraint = -1.0000 (+/- 0.0000)\n",
      "./Reservoir/e_coli_core_UB_50_ANN_Dense_param.csv\n",
      "training file: ./Dataset_model/e_coli_core_UB_50\n",
      "model type: ANN_Dense\n",
      "model scaler: 0.0\n",
      "model input dim: 20\n",
      "model output dim: 1\n",
      "model medium bound: UB\n",
      "timestep: 0\n",
      "training set size (50, 20) (50, 1)\n",
      "nbr hidden layer: 1\n",
      "hidden layer size: 50\n",
      "activation function: relu\n",
      "training epochs: 500\n",
      "training regression: True\n",
      "training learn rate: 0.001\n",
      "training dropout: 0.25\n",
      "training batch size: 5\n",
      "training validation iter: 0\n",
      "training xfold: 5\n",
      "training early stopping: False\n",
      "Stats for Test set CPU-time 0.0707\n",
      "R2 = 0.6795 (+/- 0.0000) Constraint = -1.0000 (+/- 0.0000)\n",
      "Q2 = 0.6795 (+/- 0.0000) Constraint = -1.0000 (+/- 0.0000)\n"
     ]
    }
   ],
   "source": [
    "# Create, train and evaluate ANN model with FBA simulated training set for E. coli core\n",
    "\n",
    "# What you can change \n",
    "seed = 10\n",
    "ratio_test = 0.1 # part of the training set removed for test\n",
    "np.random.seed(seed=seed)  \n",
    "trainname = 'e_coli_core_UB_50'\n",
    "# End of What you can change\n",
    "\n",
    "# Create model\n",
    "trainingfile = DIRECTORY+'Dataset_model/'+trainname\n",
    "model = Neural_Model(trainingfile = trainingfile, \n",
    "              objective=['BIOMASS_Ecoli_core_w_GAM'], \n",
    "              model_type = 'ANN_Dense',\n",
    "              n_hidden = 1, hidden_dim = 50, \n",
    "              epochs = 500, xfold = 5)\n",
    "ID = np.random.choice(model.X.shape[0], \n",
    "                      size=int(model.X.shape[0]*ratio_test), replace=False)\n",
    "Xtest,  Ytest  = model.X[ID,:], model.Y[ID,:]\n",
    "Xtrain, Ytrain = np.delete(model.X, ID, axis=0), np.delete(model.Y, ID, axis=0) \n",
    "model.printout()\n",
    "\n",
    "# Train and evaluate\n",
    "reservoirname = trainname +'_'+model.model_type\n",
    "reservoirfile = DIRECTORY+'Reservoir/'+reservoirname\n",
    "start_time = time.time()\n",
    "model.X, model.Y = Xtrain, Ytrain\n",
    "reservoir, pred, stats, _ = train_evaluate_model(model, verbose=False)\n",
    "delta_time = time.time() - start_time\n",
    "\n",
    "# Printing cross-validation results\n",
    "printout(reservoirname, stats, model, delta_time)\n",
    "\n",
    "# Save, reload and run idependent test set\n",
    "reservoir.save(reservoirfile)\n",
    "reservoir.load(reservoirfile)\n",
    "reservoir.printout()\n",
    "if len(Xtest) > 0:\n",
    "    start_time = time.time()\n",
    "    reservoir.X, reservoir.Y = Xtest, Ytest\n",
    "    X, Y = model_input(reservoir,verbose=False)\n",
    "    pred, stats = evaluate_model(reservoir.model, X, Y, reservoir, verbose=False)\n",
    "    delta_time = time.time() - start_time\n",
    "    printout('Test set', stats, model, delta_time)"
   ]
  },
  {
   "cell_type": "markdown",
   "id": "e753651e",
   "metadata": {},
   "source": [
    "NB: a Constraint=-1.00 is expected with such black box architecture, it is the default value when no constraint is computed. \n",
    "\n",
    "With the given parameters we should obtain Q2=0.68 on the test set."
   ]
  },
  {
   "cell_type": "markdown",
   "id": "466463f8",
   "metadata": {},
   "source": [
    "## 3.3° Hybrid: Artificial Metabolic Network (AMN) architecture"
   ]
  },
  {
   "cell_type": "markdown",
   "id": "30927732",
   "metadata": {},
   "source": [
    "This step aims to use an AMN architecture for learning on the cobrapy-generated dataset, looking at the performance of a hybrid model with computations using the stoichiometric matrix of the network and other 'knowledge'.\n",
    "\n",
    "We use a 5-fold cross-validation scheme on 90% of the data and an independent test-set of 10% of the data."
   ]
  },
  {
   "cell_type": "markdown",
   "id": "249f2774",
   "metadata": {},
   "source": [
    "Import required functions"
   ]
  },
  {
   "cell_type": "code",
   "execution_count": 37,
   "id": "a3d30f66",
   "metadata": {},
   "outputs": [],
   "source": [
    "from Library.Build_Model import *\n",
    "\n",
    "# We declare this function here and not in the\n",
    "# function-storing python file to modify it easily\n",
    "# as it can change the printouts of the methods\n",
    "def printout(filename, Stats, model, time): \n",
    "    # printing Stats\n",
    "    print('Stats for %s CPU-time %.4f' % (filename, time))\n",
    "    print('R2 = %.4f (+/- %.4f) Constraint = %.4f (+/- %.4f)' % \\\n",
    "          (Stats.train_objective[0], Stats.train_objective[1],\n",
    "           Stats.train_loss[0], Stats.train_loss[1]))\n",
    "    print('Q2 = %.4f (+/- %.4f) Constraint = %.4f (+/- %.4f)' % \\\n",
    "          (Stats.test_objective[0], Stats.test_objective[1],\n",
    "           Stats.test_loss[0], Stats.test_loss[1]))"
   ]
  },
  {
   "cell_type": "code",
   "execution_count": 41,
   "id": "449c09a5",
   "metadata": {
    "scrolled": true
   },
   "outputs": [
    {
     "name": "stdout",
     "output_type": "stream",
     "text": [
      "number of reactions:  154 154\n",
      "number of metabolites:  72\n",
      "filtered measurements size:  1\n",
      "training file: ./Dataset_model/e_coli_core_UB_50\n",
      "model type: AMN_QP\n",
      "model scaler: 1.0\n",
      "model input dim: 20\n",
      "model output dim: 1\n",
      "model medium bound: UB\n",
      "timestep: 4\n",
      "training set size (50, 20) (50, 1)\n",
      "nbr hidden layer: 1\n",
      "hidden layer size: 50\n",
      "activation function: relu\n",
      "gradient learn rate: 0.01\n",
      "gradient decay rate: 0.9\n",
      "training epochs: 500\n",
      "training regression: True\n",
      "training learn rate: 0.001\n",
      "training dropout: 0.25\n",
      "training batch size: 5\n",
      "training validation iter: 0\n",
      "training xfold: 5\n",
      "training early stopping: False\n",
      "nbr parameters: 8904\n",
      "train = 0.98 test = 0.98 loss-train = 0.002290 loss-test = 0.002122 iter=0\n",
      "nbr parameters: 8904\n",
      "train = 0.91 test = 0.87 loss-train = 0.004192 loss-test = 0.003801 iter=0\n",
      "nbr parameters: 8904\n",
      "train = 0.81 test = 0.79 loss-train = 0.003999 loss-test = 0.005352 iter=0\n",
      "nbr parameters: 8904\n",
      "train = 0.93 test = 0.86 loss-train = 0.004553 loss-test = 0.005119 iter=0\n",
      "nbr parameters: 8904\n",
      "train = 0.99 test = 0.97 loss-train = 0.002111 loss-test = 0.001826 iter=0\n",
      "Stats for e_coli_core_UB_50_AMN_QP CPU-time 530.8478\n",
      "R2 = 0.9229 (+/- 0.0632) Constraint = 0.0034 (+/- 0.0010)\n",
      "Q2 = 0.8954 (+/- 0.0706) Constraint = 0.0036 (+/- 0.0015)\n",
      "./Reservoir/e_coli_core_UB_50_AMN_QP_param.csv\n",
      "training file: ./Dataset_model/e_coli_core_UB_50\n",
      "model type: AMN_QP\n",
      "model scaler: 10.0\n",
      "model input dim: 20\n",
      "model output dim: 312\n",
      "model medium bound: UB\n",
      "timestep: 4\n",
      "training set size (50, 20) (50, 1)\n",
      "nbr hidden layer: 1\n",
      "hidden layer size: 50\n",
      "activation function: relu\n",
      "gradient learn rate: 0.01\n",
      "gradient decay rate: 0.9\n",
      "training epochs: 500\n",
      "training regression: True\n",
      "training learn rate: 0.001\n",
      "training dropout: 0.25\n",
      "training batch size: 5\n",
      "training validation iter: 0\n",
      "training xfold: 5\n",
      "training early stopping: False\n",
      "Stats for Test set CPU-time 0.7601\n",
      "R2 = 0.9340 (+/- 0.0000) Constraint = 0.0015 (+/- 0.0000)\n",
      "Q2 = 0.9340 (+/- 0.0000) Constraint = 0.0015 (+/- 0.0000)\n"
     ]
    }
   ],
   "source": [
    "# Create, train and evaluate AMN_QP o models with FBA simulated training set for E. coli core\n",
    "# with EB or UB with a mechanistic layer\n",
    "\n",
    "# What you can change \n",
    "seed = 10\n",
    "ratio_test = 0.1 # part of the training set removed for test\n",
    "np.random.seed(seed=seed)  \n",
    "trainname = 'e_coli_core_UB_50' # can change EB by UB\n",
    "timestep = 4\n",
    "# End of What you can change\n",
    "  \n",
    "# Create model 90% for training 10% for testing\n",
    "trainingfile = DIRECTORY+'Dataset_model/'+trainname\n",
    "model = Neural_Model(trainingfile = trainingfile, \n",
    "                     objective=['BIOMASS_Ecoli_core_w_GAM'],  \n",
    "                     model_type='AMN_QP', \n",
    "                     timestep = timestep, learn_rate=0.01,\n",
    "                     scaler=True,\n",
    "                     n_hidden = 1, hidden_dim = 50,\n",
    "                     epochs=500, xfold=5,\n",
    "                     verbose=True)\n",
    "ID = np.random.choice(model.X.shape[0], \n",
    "                      size=int(model.X.shape[0]*ratio_test), replace=False)\n",
    "Xtest,  Ytest  = model.X[ID,:], model.Y[ID,:]\n",
    "Xtrain, Ytrain = np.delete(model.X, ID, axis=0), np.delete(model.Y, ID, axis=0)\n",
    "model.printout()\n",
    "\n",
    "# Train and evaluate\n",
    "reservoirname = trainname+'_'+model.model_type\n",
    "reservoirfile = DIRECTORY+'Reservoir/'+reservoirname\n",
    "start_time = time.time()\n",
    "model.X, model.Y = Xtrain, Ytrain\n",
    "reservoir, pred, stats, _ = train_evaluate_model(model, verbose=False)\n",
    "delta_time = time.time() - start_time\n",
    "\n",
    "# Printing cross-validation results\n",
    "printout(reservoirname, stats, model, delta_time)\n",
    "\n",
    "# Save, reload and run idependent test set\n",
    "reservoir.save(reservoirfile)\n",
    "reservoir.load(reservoirfile)\n",
    "reservoir.printout()\n",
    "if len(Xtest) > 0:\n",
    "    start_time = time.time()\n",
    "    reservoir.X, reservoir.Y = Xtest, Ytest\n",
    "    X, Y = model_input(reservoir, verbose=False)\n",
    "    pred, stats = evaluate_model(reservoir.model, X, Y, reservoir, verbose=False)\n",
    "    delta_time = time.time() - start_time\n",
    "    printout('Test set', stats, model, delta_time)"
   ]
  },
  {
   "cell_type": "markdown",
   "id": "cbaceeca",
   "metadata": {},
   "source": [
    "With the given parameters the AMN should outperform the ANN and get to 0.93 of Q2. Moreover, it should comply with the constraints of the metabolic network, obtaining an aggregated constraint (see research paper or source code) of roughly 0.001."
   ]
  }
 ],
 "metadata": {
  "kernelspec": {
   "display_name": "Python 3.8.10 64-bit",
   "language": "python",
   "name": "python3"
  },
  "language_info": {
   "codemirror_mode": {
    "name": "ipython",
    "version": 3
   },
   "file_extension": ".py",
   "mimetype": "text/x-python",
   "name": "python",
   "nbconvert_exporter": "python",
   "pygments_lexer": "ipython3",
   "version": "3.8.10"
  },
  "vscode": {
   "interpreter": {
    "hash": "31f2aee4e71d21fbe5cf8b01ff0e069b9275f58929596ceb00d14d90e3e16cd6"
   }
  }
 },
 "nbformat": 4,
 "nbformat_minor": 5
}
